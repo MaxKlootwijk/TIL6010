{
 "cells": [
  {
   "cell_type": "markdown",
   "metadata": {},
   "source": [
    "In this Lab session, you will be working with pandas. The selected dataset could be downloaded at <https://www.kaggle.com/luiscorter/netflix-original-films-imdb-scores>. From there, a more thorough description of the data can be found.  \n",
    "For your convenience, we have downloaded the data and place it under folder `data`."
   ]
  },
  {
   "cell_type": "markdown",
   "metadata": {},
   "source": [
    "# Data Import"
   ]
  },
  {
   "cell_type": "markdown",
   "metadata": {},
   "source": [
    "First, import pandas"
   ]
  },
  {
   "cell_type": "code",
   "execution_count": 1,
   "metadata": {},
   "outputs": [],
   "source": [
    "import pandas as pd"
   ]
  },
  {
   "cell_type": "markdown",
   "metadata": {},
   "source": [
    "Specify the path to the data file `NetflixOriginals.csv`. By default, it is under the `data` directory which is under the same directory as this notebook"
   ]
  },
  {
   "cell_type": "code",
   "execution_count": 4,
   "metadata": {},
   "outputs": [],
   "source": [
    "file_path = './data/NetflixOriginals.csv'"
   ]
  },
  {
   "cell_type": "markdown",
   "metadata": {},
   "source": [
    "As you already see, it is a csv file. Use a text editor to open the file and find out which delimiter is used."
   ]
  },
  {
   "cell_type": "code",
   "execution_count": 5,
   "metadata": {},
   "outputs": [],
   "source": [
    "delimiter = ','"
   ]
  },
  {
   "cell_type": "markdown",
   "metadata": {},
   "source": [
    "Now, use pandas and the above information to load the data into a dataframe."
   ]
  },
  {
   "cell_type": "code",
   "execution_count": 6,
   "metadata": {},
   "outputs": [],
   "source": [
    "df = pd.read_csv(file_path, delimiter=delimiter)"
   ]
  },
  {
   "cell_type": "markdown",
   "metadata": {},
   "source": [
    "Print the *last* 15 lines of the dataframe."
   ]
  },
  {
   "cell_type": "code",
   "execution_count": 7,
   "metadata": {},
   "outputs": [
    {
     "data": {
      "text/html": [
       "<div>\n",
       "<style scoped>\n",
       "    .dataframe tbody tr th:only-of-type {\n",
       "        vertical-align: middle;\n",
       "    }\n",
       "\n",
       "    .dataframe tbody tr th {\n",
       "        vertical-align: top;\n",
       "    }\n",
       "\n",
       "    .dataframe thead th {\n",
       "        text-align: right;\n",
       "    }\n",
       "</style>\n",
       "<table border=\"1\" class=\"dataframe\">\n",
       "  <thead>\n",
       "    <tr style=\"text-align: right;\">\n",
       "      <th></th>\n",
       "      <th>Title</th>\n",
       "      <th>Genre</th>\n",
       "      <th>Premiere</th>\n",
       "      <th>Runtime</th>\n",
       "      <th>IMDB Score</th>\n",
       "      <th>Language</th>\n",
       "    </tr>\n",
       "  </thead>\n",
       "  <tbody>\n",
       "    <tr>\n",
       "      <th>569</th>\n",
       "      <td>My Octopus Teacher</td>\n",
       "      <td>Documentary</td>\n",
       "      <td>September 7, 2020</td>\n",
       "      <td>85</td>\n",
       "      <td>8.1</td>\n",
       "      <td>English</td>\n",
       "    </tr>\n",
       "    <tr>\n",
       "      <th>570</th>\n",
       "      <td>Rising Phoenix</td>\n",
       "      <td>Documentary</td>\n",
       "      <td>August 26, 2020</td>\n",
       "      <td>106</td>\n",
       "      <td>8.1</td>\n",
       "      <td>English</td>\n",
       "    </tr>\n",
       "    <tr>\n",
       "      <th>571</th>\n",
       "      <td>13th</td>\n",
       "      <td>Documentary</td>\n",
       "      <td>October 7, 2016</td>\n",
       "      <td>100</td>\n",
       "      <td>8.2</td>\n",
       "      <td>English</td>\n",
       "    </tr>\n",
       "    <tr>\n",
       "      <th>572</th>\n",
       "      <td>Disclosure: Trans Lives on Screen</td>\n",
       "      <td>Documentary</td>\n",
       "      <td>June 19, 2020</td>\n",
       "      <td>107</td>\n",
       "      <td>8.2</td>\n",
       "      <td>English</td>\n",
       "    </tr>\n",
       "    <tr>\n",
       "      <th>573</th>\n",
       "      <td>Klaus</td>\n",
       "      <td>Animation/Christmas/Comedy/Adventure</td>\n",
       "      <td>November 15, 2019</td>\n",
       "      <td>97</td>\n",
       "      <td>8.2</td>\n",
       "      <td>English</td>\n",
       "    </tr>\n",
       "    <tr>\n",
       "      <th>574</th>\n",
       "      <td>Seaspiracy</td>\n",
       "      <td>Documentary</td>\n",
       "      <td>March 24, 2021</td>\n",
       "      <td>89</td>\n",
       "      <td>8.2</td>\n",
       "      <td>English</td>\n",
       "    </tr>\n",
       "    <tr>\n",
       "      <th>575</th>\n",
       "      <td>The Three Deaths of Marisela Escobedo</td>\n",
       "      <td>Documentary</td>\n",
       "      <td>October 14, 2020</td>\n",
       "      <td>109</td>\n",
       "      <td>8.2</td>\n",
       "      <td>Spanish</td>\n",
       "    </tr>\n",
       "    <tr>\n",
       "      <th>576</th>\n",
       "      <td>Cuba and the Cameraman</td>\n",
       "      <td>Documentary</td>\n",
       "      <td>November 24, 2017</td>\n",
       "      <td>114</td>\n",
       "      <td>8.3</td>\n",
       "      <td>English</td>\n",
       "    </tr>\n",
       "    <tr>\n",
       "      <th>577</th>\n",
       "      <td>Dancing with the Birds</td>\n",
       "      <td>Documentary</td>\n",
       "      <td>October 23, 2019</td>\n",
       "      <td>51</td>\n",
       "      <td>8.3</td>\n",
       "      <td>English</td>\n",
       "    </tr>\n",
       "    <tr>\n",
       "      <th>578</th>\n",
       "      <td>Ben Platt: Live from Radio City Music Hall</td>\n",
       "      <td>Concert Film</td>\n",
       "      <td>May 20, 2020</td>\n",
       "      <td>85</td>\n",
       "      <td>8.4</td>\n",
       "      <td>English</td>\n",
       "    </tr>\n",
       "    <tr>\n",
       "      <th>579</th>\n",
       "      <td>Taylor Swift: Reputation Stadium Tour</td>\n",
       "      <td>Concert Film</td>\n",
       "      <td>December 31, 2018</td>\n",
       "      <td>125</td>\n",
       "      <td>8.4</td>\n",
       "      <td>English</td>\n",
       "    </tr>\n",
       "    <tr>\n",
       "      <th>580</th>\n",
       "      <td>Winter on Fire: Ukraine's Fight for Freedom</td>\n",
       "      <td>Documentary</td>\n",
       "      <td>October 9, 2015</td>\n",
       "      <td>91</td>\n",
       "      <td>8.4</td>\n",
       "      <td>English/Ukranian/Russian</td>\n",
       "    </tr>\n",
       "    <tr>\n",
       "      <th>581</th>\n",
       "      <td>Springsteen on Broadway</td>\n",
       "      <td>One-man show</td>\n",
       "      <td>December 16, 2018</td>\n",
       "      <td>153</td>\n",
       "      <td>8.5</td>\n",
       "      <td>English</td>\n",
       "    </tr>\n",
       "    <tr>\n",
       "      <th>582</th>\n",
       "      <td>Emicida: AmarElo - It's All For Yesterday</td>\n",
       "      <td>Documentary</td>\n",
       "      <td>December 8, 2020</td>\n",
       "      <td>89</td>\n",
       "      <td>8.6</td>\n",
       "      <td>Portuguese</td>\n",
       "    </tr>\n",
       "    <tr>\n",
       "      <th>583</th>\n",
       "      <td>David Attenborough: A Life on Our Planet</td>\n",
       "      <td>Documentary</td>\n",
       "      <td>October 4, 2020</td>\n",
       "      <td>83</td>\n",
       "      <td>9.0</td>\n",
       "      <td>English</td>\n",
       "    </tr>\n",
       "  </tbody>\n",
       "</table>\n",
       "</div>"
      ],
      "text/plain": [
       "                                           Title  \\\n",
       "569                           My Octopus Teacher   \n",
       "570                               Rising Phoenix   \n",
       "571                                         13th   \n",
       "572            Disclosure: Trans Lives on Screen   \n",
       "573                                        Klaus   \n",
       "574                                   Seaspiracy   \n",
       "575        The Three Deaths of Marisela Escobedo   \n",
       "576                      Cuba and the Cameraman    \n",
       "577                       Dancing with the Birds   \n",
       "578   Ben Platt: Live from Radio City Music Hall   \n",
       "579        Taylor Swift: Reputation Stadium Tour   \n",
       "580  Winter on Fire: Ukraine's Fight for Freedom   \n",
       "581                      Springsteen on Broadway   \n",
       "582    Emicida: AmarElo - It's All For Yesterday   \n",
       "583     David Attenborough: A Life on Our Planet   \n",
       "\n",
       "                                    Genre           Premiere  Runtime  \\\n",
       "569                           Documentary  September 7, 2020       85   \n",
       "570                           Documentary    August 26, 2020      106   \n",
       "571                           Documentary    October 7, 2016      100   \n",
       "572                           Documentary      June 19, 2020      107   \n",
       "573  Animation/Christmas/Comedy/Adventure  November 15, 2019       97   \n",
       "574                           Documentary     March 24, 2021       89   \n",
       "575                           Documentary   October 14, 2020      109   \n",
       "576                           Documentary  November 24, 2017      114   \n",
       "577                           Documentary   October 23, 2019       51   \n",
       "578                          Concert Film       May 20, 2020       85   \n",
       "579                          Concert Film  December 31, 2018      125   \n",
       "580                           Documentary    October 9, 2015       91   \n",
       "581                          One-man show  December 16, 2018      153   \n",
       "582                           Documentary   December 8, 2020       89   \n",
       "583                           Documentary    October 4, 2020       83   \n",
       "\n",
       "     IMDB Score                  Language  \n",
       "569         8.1                   English  \n",
       "570         8.1                   English  \n",
       "571         8.2                   English  \n",
       "572         8.2                   English  \n",
       "573         8.2                   English  \n",
       "574         8.2                   English  \n",
       "575         8.2                   Spanish  \n",
       "576         8.3                   English  \n",
       "577         8.3                   English  \n",
       "578         8.4                   English  \n",
       "579         8.4                   English  \n",
       "580         8.4  English/Ukranian/Russian  \n",
       "581         8.5                   English  \n",
       "582         8.6                Portuguese  \n",
       "583         9.0                   English  "
      ]
     },
     "execution_count": 7,
     "metadata": {},
     "output_type": "execute_result"
    }
   ],
   "source": [
    "df.tail(15)"
   ]
  },
  {
   "cell_type": "markdown",
   "metadata": {},
   "source": [
    "# Data exploration"
   ]
  },
  {
   "cell_type": "markdown",
   "metadata": {},
   "source": [
    "## How many records (rows) and attributes (columns) are in the dataset?"
   ]
  },
  {
   "cell_type": "code",
   "execution_count": 8,
   "metadata": {},
   "outputs": [
    {
     "data": {
      "text/plain": [
       "(584, 6)"
      ]
     },
     "execution_count": 8,
     "metadata": {},
     "output_type": "execute_result"
    }
   ],
   "source": [
    "df.shape"
   ]
  },
  {
   "cell_type": "markdown",
   "metadata": {},
   "source": [
    "## What is the highest (and lowest) score among all the movies in the dataset?"
   ]
  },
  {
   "cell_type": "code",
   "execution_count": 10,
   "metadata": {},
   "outputs": [
    {
     "name": "stdout",
     "output_type": "stream",
     "text": [
      "The datasat has 584 rows and 6 collums\n"
     ]
    }
   ],
   "source": [
    "print(f'The datasat has {df.shape[0]} rows and {df.shape[1]} collums')"
   ]
  },
  {
   "cell_type": "markdown",
   "metadata": {},
   "source": [
    "## Which movies score the highest?"
   ]
  },
  {
   "cell_type": "code",
   "execution_count": 12,
   "metadata": {},
   "outputs": [
    {
     "name": "stdout",
     "output_type": "stream",
     "text": [
      "9.0\n"
     ]
    }
   ],
   "source": [
    "print(max(df['IMDB Score']))"
   ]
  },
  {
   "cell_type": "markdown",
   "metadata": {},
   "source": [
    "## What are the genres of all the movies?"
   ]
  },
  {
   "cell_type": "code",
   "execution_count": 13,
   "metadata": {},
   "outputs": [
    {
     "data": {
      "text/html": [
       "<div>\n",
       "<style scoped>\n",
       "    .dataframe tbody tr th:only-of-type {\n",
       "        vertical-align: middle;\n",
       "    }\n",
       "\n",
       "    .dataframe tbody tr th {\n",
       "        vertical-align: top;\n",
       "    }\n",
       "\n",
       "    .dataframe thead th {\n",
       "        text-align: right;\n",
       "    }\n",
       "</style>\n",
       "<table border=\"1\" class=\"dataframe\">\n",
       "  <thead>\n",
       "    <tr style=\"text-align: right;\">\n",
       "      <th></th>\n",
       "      <th>Title</th>\n",
       "      <th>Genre</th>\n",
       "      <th>Premiere</th>\n",
       "      <th>Runtime</th>\n",
       "      <th>IMDB Score</th>\n",
       "      <th>Language</th>\n",
       "    </tr>\n",
       "  </thead>\n",
       "  <tbody>\n",
       "    <tr>\n",
       "      <th>583</th>\n",
       "      <td>David Attenborough: A Life on Our Planet</td>\n",
       "      <td>Documentary</td>\n",
       "      <td>October 4, 2020</td>\n",
       "      <td>83</td>\n",
       "      <td>9.0</td>\n",
       "      <td>English</td>\n",
       "    </tr>\n",
       "  </tbody>\n",
       "</table>\n",
       "</div>"
      ],
      "text/plain": [
       "                                        Title        Genre         Premiere  \\\n",
       "583  David Attenborough: A Life on Our Planet  Documentary  October 4, 2020   \n",
       "\n",
       "     Runtime  IMDB Score Language  \n",
       "583       83         9.0  English  "
      ]
     },
     "execution_count": 13,
     "metadata": {},
     "output_type": "execute_result"
    }
   ],
   "source": [
    "df[df['IMDB Score'] == df['IMDB Score'].max()]"
   ]
  },
  {
   "cell_type": "markdown",
   "metadata": {},
   "source": [
    "## Bonus: Some movies are tagged with more than one genre, hence, the list of unique genres could be (possibly) less than what you have just obtained. Find a way to deal with this situation, and derive the correct sets of (single) genre."
   ]
  },
  {
   "cell_type": "code",
   "execution_count": 14,
   "metadata": {},
   "outputs": [
    {
     "ename": "SyntaxError",
     "evalue": "invalid syntax (<ipython-input-14-c7c3b0002dcc>, line 2)",
     "output_type": "error",
     "traceback": [
      "\u001b[1;36m  File \u001b[1;32m\"<ipython-input-14-c7c3b0002dcc>\"\u001b[1;36m, line \u001b[1;32m2\u001b[0m\n\u001b[1;33m    all_genre_tags =\u001b[0m\n\u001b[1;37m                     ^\u001b[0m\n\u001b[1;31mSyntaxError\u001b[0m\u001b[1;31m:\u001b[0m invalid syntax\n"
     ]
    }
   ],
   "source": [
    "# first, get all genres, including singular and multiple genre tags\n",
    "all_genre_tags = \n",
    "# a variable to keep all singular genres\n",
    "singular_genres = \n",
    "for genre_tag in all_genre_tags:\n",
    "    # check if this tag is multiple or single\n",
    "    # check whether '/' is in this tag\n",
    "    if \n",
    "        # '/' seperate different genre tags\n",
    "        # let's separate them\n",
    "        genres = \n",
    "        # append these genres to the list of singular genre\n",
    "        singular_genres = \n",
    "    else:\n",
    "        # this tag has only one genre\n",
    "        # append this genre to the list of singular genre\n",
    "        singular_genres =\n",
    "# now get unique genres from the list of genres\n",
    "\n",
    "# print print the number of unique genres\n",
    "# also print them out"
   ]
  },
  {
   "cell_type": "markdown",
   "metadata": {},
   "source": [
    "## Sort the movies by their titles"
   ]
  },
  {
   "cell_type": "code",
   "execution_count": 17,
   "metadata": {},
   "outputs": [
    {
     "ename": "AttributeError",
     "evalue": "'DataFrame' object has no attribute 'sort'",
     "output_type": "error",
     "traceback": [
      "\u001b[1;31m---------------------------------------------------------------------------\u001b[0m",
      "\u001b[1;31mAttributeError\u001b[0m                            Traceback (most recent call last)",
      "\u001b[1;32m<ipython-input-17-f11482b79f40>\u001b[0m in \u001b[0;36m<module>\u001b[1;34m\u001b[0m\n\u001b[1;32m----> 1\u001b[1;33m \u001b[0mdf\u001b[0m\u001b[1;33m.\u001b[0m\u001b[0msort\u001b[0m\u001b[1;33m\u001b[0m\u001b[1;33m\u001b[0m\u001b[0m\n\u001b[0m",
      "\u001b[1;32m~\\anaconda3\\lib\\site-packages\\pandas\\core\\generic.py\u001b[0m in \u001b[0;36m__getattr__\u001b[1;34m(self, name)\u001b[0m\n\u001b[0;32m   5463\u001b[0m             \u001b[1;32mif\u001b[0m \u001b[0mself\u001b[0m\u001b[1;33m.\u001b[0m\u001b[0m_info_axis\u001b[0m\u001b[1;33m.\u001b[0m\u001b[0m_can_hold_identifiers_and_holds_name\u001b[0m\u001b[1;33m(\u001b[0m\u001b[0mname\u001b[0m\u001b[1;33m)\u001b[0m\u001b[1;33m:\u001b[0m\u001b[1;33m\u001b[0m\u001b[1;33m\u001b[0m\u001b[0m\n\u001b[0;32m   5464\u001b[0m                 \u001b[1;32mreturn\u001b[0m \u001b[0mself\u001b[0m\u001b[1;33m[\u001b[0m\u001b[0mname\u001b[0m\u001b[1;33m]\u001b[0m\u001b[1;33m\u001b[0m\u001b[1;33m\u001b[0m\u001b[0m\n\u001b[1;32m-> 5465\u001b[1;33m             \u001b[1;32mreturn\u001b[0m \u001b[0mobject\u001b[0m\u001b[1;33m.\u001b[0m\u001b[0m__getattribute__\u001b[0m\u001b[1;33m(\u001b[0m\u001b[0mself\u001b[0m\u001b[1;33m,\u001b[0m \u001b[0mname\u001b[0m\u001b[1;33m)\u001b[0m\u001b[1;33m\u001b[0m\u001b[1;33m\u001b[0m\u001b[0m\n\u001b[0m\u001b[0;32m   5466\u001b[0m \u001b[1;33m\u001b[0m\u001b[0m\n\u001b[0;32m   5467\u001b[0m     \u001b[1;32mdef\u001b[0m \u001b[0m__setattr__\u001b[0m\u001b[1;33m(\u001b[0m\u001b[0mself\u001b[0m\u001b[1;33m,\u001b[0m \u001b[0mname\u001b[0m\u001b[1;33m:\u001b[0m \u001b[0mstr\u001b[0m\u001b[1;33m,\u001b[0m \u001b[0mvalue\u001b[0m\u001b[1;33m)\u001b[0m \u001b[1;33m->\u001b[0m \u001b[1;32mNone\u001b[0m\u001b[1;33m:\u001b[0m\u001b[1;33m\u001b[0m\u001b[1;33m\u001b[0m\u001b[0m\n",
      "\u001b[1;31mAttributeError\u001b[0m: 'DataFrame' object has no attribute 'sort'"
     ]
    }
   ],
   "source": [
    "df.sort"
   ]
  },
  {
   "cell_type": "markdown",
   "metadata": {},
   "source": [
    "## To simplify the data for the sake of this Lab session, we are going to remove movies with compound genres."
   ]
  },
  {
   "cell_type": "code",
   "execution_count": 44,
   "metadata": {},
   "outputs": [
    {
     "data": {
      "text/html": [
       "<div>\n",
       "<style scoped>\n",
       "    .dataframe tbody tr th:only-of-type {\n",
       "        vertical-align: middle;\n",
       "    }\n",
       "\n",
       "    .dataframe tbody tr th {\n",
       "        vertical-align: top;\n",
       "    }\n",
       "\n",
       "    .dataframe thead th {\n",
       "        text-align: right;\n",
       "    }\n",
       "</style>\n",
       "<table border=\"1\" class=\"dataframe\">\n",
       "  <thead>\n",
       "    <tr style=\"text-align: right;\">\n",
       "      <th></th>\n",
       "      <th>Genre</th>\n",
       "      <th>Premiere</th>\n",
       "      <th>Runtime</th>\n",
       "      <th>IMDB Score</th>\n",
       "      <th>Language</th>\n",
       "      <th>PremiereDate</th>\n",
       "    </tr>\n",
       "    <tr>\n",
       "      <th>Title</th>\n",
       "      <th></th>\n",
       "      <th></th>\n",
       "      <th></th>\n",
       "      <th></th>\n",
       "      <th></th>\n",
       "      <th></th>\n",
       "    </tr>\n",
       "  </thead>\n",
       "  <tbody>\n",
       "    <tr>\n",
       "      <th>#REALITYHIGH</th>\n",
       "      <td>Comedy</td>\n",
       "      <td>September 8, 2017</td>\n",
       "      <td>99</td>\n",
       "      <td>5.2</td>\n",
       "      <td>English</td>\n",
       "      <td>2017-09-08</td>\n",
       "    </tr>\n",
       "    <tr>\n",
       "      <th>13th</th>\n",
       "      <td>Documentary</td>\n",
       "      <td>October 7, 2016</td>\n",
       "      <td>100</td>\n",
       "      <td>8.2</td>\n",
       "      <td>English</td>\n",
       "      <td>2016-10-07</td>\n",
       "    </tr>\n",
       "    <tr>\n",
       "      <th>15 August</th>\n",
       "      <td>Comedy-drama</td>\n",
       "      <td>March 29, 2019</td>\n",
       "      <td>124</td>\n",
       "      <td>5.8</td>\n",
       "      <td>Marathi</td>\n",
       "      <td>2019-03-29</td>\n",
       "    </tr>\n",
       "    <tr>\n",
       "      <th>22 July</th>\n",
       "      <td>Drama</td>\n",
       "      <td>October 10, 2018</td>\n",
       "      <td>144</td>\n",
       "      <td>6.8</td>\n",
       "      <td>English</td>\n",
       "      <td>2018-10-10</td>\n",
       "    </tr>\n",
       "    <tr>\n",
       "      <th>5 Star Christmas</th>\n",
       "      <td>Comedy</td>\n",
       "      <td>December 7, 2018</td>\n",
       "      <td>95</td>\n",
       "      <td>4.6</td>\n",
       "      <td>Italian</td>\n",
       "      <td>2018-12-07</td>\n",
       "    </tr>\n",
       "    <tr>\n",
       "      <th>...</th>\n",
       "      <td>...</td>\n",
       "      <td>...</td>\n",
       "      <td>...</td>\n",
       "      <td>...</td>\n",
       "      <td>...</td>\n",
       "      <td>...</td>\n",
       "    </tr>\n",
       "    <tr>\n",
       "      <th>Yeh Ballet</th>\n",
       "      <td>Drama</td>\n",
       "      <td>February 21, 2020</td>\n",
       "      <td>117</td>\n",
       "      <td>7.6</td>\n",
       "      <td>Hindi</td>\n",
       "      <td>2020-02-21</td>\n",
       "    </tr>\n",
       "    <tr>\n",
       "      <th>Yes Day</th>\n",
       "      <td>Comedy</td>\n",
       "      <td>March 12, 2021</td>\n",
       "      <td>86</td>\n",
       "      <td>5.7</td>\n",
       "      <td>English</td>\n",
       "      <td>2021-03-12</td>\n",
       "    </tr>\n",
       "    <tr>\n",
       "      <th>You've Got This</th>\n",
       "      <td>Romantic comedy</td>\n",
       "      <td>October 2, 2020</td>\n",
       "      <td>111</td>\n",
       "      <td>5.8</td>\n",
       "      <td>Spanish</td>\n",
       "      <td>2020-10-02</td>\n",
       "    </tr>\n",
       "    <tr>\n",
       "      <th>Zion</th>\n",
       "      <td>Documentary</td>\n",
       "      <td>August 10, 2018</td>\n",
       "      <td>11</td>\n",
       "      <td>7.2</td>\n",
       "      <td>English</td>\n",
       "      <td>2018-08-10</td>\n",
       "    </tr>\n",
       "    <tr>\n",
       "      <th>�l�t?r�</th>\n",
       "      <td>Crime drama</td>\n",
       "      <td>October 2, 2020</td>\n",
       "      <td>106</td>\n",
       "      <td>5.5</td>\n",
       "      <td>English</td>\n",
       "      <td>2020-10-02</td>\n",
       "    </tr>\n",
       "  </tbody>\n",
       "</table>\n",
       "<p>533 rows × 6 columns</p>\n",
       "</div>"
      ],
      "text/plain": [
       "                            Genre           Premiere  Runtime  IMDB Score  \\\n",
       "Title                                                                       \n",
       "#REALITYHIGH               Comedy  September 8, 2017       99         5.2   \n",
       "13th                  Documentary    October 7, 2016      100         8.2   \n",
       "15 August            Comedy-drama     March 29, 2019      124         5.8   \n",
       "22 July                     Drama   October 10, 2018      144         6.8   \n",
       "5 Star Christmas           Comedy   December 7, 2018       95         4.6   \n",
       "...                           ...                ...      ...         ...   \n",
       "Yeh Ballet                  Drama  February 21, 2020      117         7.6   \n",
       "Yes Day                    Comedy     March 12, 2021       86         5.7   \n",
       "You've Got This   Romantic comedy    October 2, 2020      111         5.8   \n",
       "Zion                  Documentary    August 10, 2018       11         7.2   \n",
       "�l�t?r�               Crime drama    October 2, 2020      106         5.5   \n",
       "\n",
       "                 Language PremiereDate  \n",
       "Title                                   \n",
       "#REALITYHIGH      English   2017-09-08  \n",
       "13th              English   2016-10-07  \n",
       "15 August         Marathi   2019-03-29  \n",
       "22 July           English   2018-10-10  \n",
       "5 Star Christmas  Italian   2018-12-07  \n",
       "...                   ...          ...  \n",
       "Yeh Ballet          Hindi   2020-02-21  \n",
       "Yes Day           English   2021-03-12  \n",
       "You've Got This   Spanish   2020-10-02  \n",
       "Zion              English   2018-08-10  \n",
       "�l�t?r�           English   2020-10-02  \n",
       "\n",
       "[533 rows x 6 columns]"
      ]
     },
     "execution_count": 44,
     "metadata": {},
     "output_type": "execute_result"
    }
   ],
   "source": [
    "df = df[df['Genre'].apply(lambda g: '/' not in g)]\n",
    "df"
   ]
  },
  {
   "cell_type": "markdown",
   "metadata": {},
   "source": [
    "## You perhaps have noticed that there are genres with '-' notation, e.g. Comedy-drama. For this Lab session, let's assume that they stand for unique genres. That means 'Comedy-drama' is different from 'Drama'."
   ]
  },
  {
   "cell_type": "markdown",
   "metadata": {},
   "source": [
    "## Extract movies with only 1 tag `Action` and assign a new dataframe to them, called `df_action`"
   ]
  },
  {
   "cell_type": "code",
   "execution_count": 27,
   "metadata": {},
   "outputs": [
    {
     "data": {
      "text/html": [
       "<div>\n",
       "<style scoped>\n",
       "    .dataframe tbody tr th:only-of-type {\n",
       "        vertical-align: middle;\n",
       "    }\n",
       "\n",
       "    .dataframe tbody tr th {\n",
       "        vertical-align: top;\n",
       "    }\n",
       "\n",
       "    .dataframe thead th {\n",
       "        text-align: right;\n",
       "    }\n",
       "</style>\n",
       "<table border=\"1\" class=\"dataframe\">\n",
       "  <thead>\n",
       "    <tr style=\"text-align: right;\">\n",
       "      <th></th>\n",
       "      <th>Title</th>\n",
       "      <th>Genre</th>\n",
       "      <th>Premiere</th>\n",
       "      <th>Runtime</th>\n",
       "      <th>IMDB Score</th>\n",
       "      <th>Language</th>\n",
       "    </tr>\n",
       "  </thead>\n",
       "  <tbody>\n",
       "    <tr>\n",
       "      <th>5</th>\n",
       "      <td>Drive</td>\n",
       "      <td>Action</td>\n",
       "      <td>November 1, 2019</td>\n",
       "      <td>147</td>\n",
       "      <td>3.5</td>\n",
       "      <td>Hindi</td>\n",
       "    </tr>\n",
       "    <tr>\n",
       "      <th>39</th>\n",
       "      <td>Sentinelle</td>\n",
       "      <td>Action</td>\n",
       "      <td>March 5, 2021</td>\n",
       "      <td>80</td>\n",
       "      <td>4.7</td>\n",
       "      <td>French</td>\n",
       "    </tr>\n",
       "    <tr>\n",
       "      <th>50</th>\n",
       "      <td>Earth and Blood</td>\n",
       "      <td>Action</td>\n",
       "      <td>April 17, 2020</td>\n",
       "      <td>80</td>\n",
       "      <td>4.9</td>\n",
       "      <td>French</td>\n",
       "    </tr>\n",
       "    <tr>\n",
       "      <th>153</th>\n",
       "      <td>Point Blank</td>\n",
       "      <td>Action</td>\n",
       "      <td>July 12, 2019</td>\n",
       "      <td>86</td>\n",
       "      <td>5.7</td>\n",
       "      <td>English</td>\n",
       "    </tr>\n",
       "    <tr>\n",
       "      <th>220</th>\n",
       "      <td>6 Underground</td>\n",
       "      <td>Action</td>\n",
       "      <td>December 13, 2019</td>\n",
       "      <td>128</td>\n",
       "      <td>6.1</td>\n",
       "      <td>English</td>\n",
       "    </tr>\n",
       "    <tr>\n",
       "      <th>277</th>\n",
       "      <td>Polar</td>\n",
       "      <td>Action</td>\n",
       "      <td>January 25, 2019</td>\n",
       "      <td>118</td>\n",
       "      <td>6.3</td>\n",
       "      <td>English</td>\n",
       "    </tr>\n",
       "    <tr>\n",
       "      <th>372</th>\n",
       "      <td>Extraction</td>\n",
       "      <td>Action</td>\n",
       "      <td>April 24, 2020</td>\n",
       "      <td>117</td>\n",
       "      <td>6.7</td>\n",
       "      <td>English</td>\n",
       "    </tr>\n",
       "  </tbody>\n",
       "</table>\n",
       "</div>"
      ],
      "text/plain": [
       "               Title   Genre           Premiere  Runtime  IMDB Score Language\n",
       "5              Drive  Action   November 1, 2019      147         3.5    Hindi\n",
       "39        Sentinelle  Action      March 5, 2021       80         4.7   French\n",
       "50   Earth and Blood  Action     April 17, 2020       80         4.9   French\n",
       "153      Point Blank  Action      July 12, 2019       86         5.7  English\n",
       "220    6 Underground  Action  December 13, 2019      128         6.1  English\n",
       "277            Polar  Action   January 25, 2019      118         6.3  English\n",
       "372       Extraction  Action     April 24, 2020      117         6.7  English"
      ]
     },
     "execution_count": 27,
     "metadata": {},
     "output_type": "execute_result"
    }
   ],
   "source": [
    "df['Genre'] == 'Action'\n",
    "\n",
    "df_action = df[df['Genre'] == 'Action'] \n",
    "df_action.head(10)"
   ]
  },
  {
   "cell_type": "markdown",
   "metadata": {},
   "source": [
    "## What is the average score of all action movies?"
   ]
  },
  {
   "cell_type": "code",
   "execution_count": 31,
   "metadata": {},
   "outputs": [
    {
     "data": {
      "text/plain": [
       "5.414285714285714"
      ]
     },
     "execution_count": 31,
     "metadata": {},
     "output_type": "execute_result"
    }
   ],
   "source": [
    "df_action['IMDB Score'].mean()"
   ]
  },
  {
   "cell_type": "markdown",
   "metadata": {},
   "source": [
    "## You have learned to calculate the average IMDB score for only the action movies by extracting relevant movies. By using `groupby`, the calculation can be applied to all the genres automatically.\n",
    "## Now, let's group the dataframe by `Genre`."
   ]
  },
  {
   "cell_type": "code",
   "execution_count": 26,
   "metadata": {},
   "outputs": [
    {
     "ename": "NameError",
     "evalue": "name 'gp_genre' is not defined",
     "output_type": "error",
     "traceback": [
      "\u001b[1;31m---------------------------------------------------------------------------\u001b[0m",
      "\u001b[1;31mNameError\u001b[0m                                 Traceback (most recent call last)",
      "\u001b[1;32m<ipython-input-26-7a7e76497c14>\u001b[0m in \u001b[0;36m<module>\u001b[1;34m\u001b[0m\n\u001b[1;32m----> 1\u001b[1;33m \u001b[0mgp_genre\u001b[0m\u001b[1;33m[\u001b[0m\u001b[1;33m[\u001b[0m\u001b[1;34m'IMDB Score'\u001b[0m\u001b[1;33m,\u001b[0m \u001b[1;34m'Runtime'\u001b[0m\u001b[1;33m]\u001b[0m\u001b[1;33m]\u001b[0m\u001b[1;33m.\u001b[0m\u001b[0mmean\u001b[0m\u001b[1;33m(\u001b[0m\u001b[1;33m)\u001b[0m\u001b[1;33m\u001b[0m\u001b[1;33m\u001b[0m\u001b[0m\n\u001b[0m",
      "\u001b[1;31mNameError\u001b[0m: name 'gp_genre' is not defined"
     ]
    }
   ],
   "source": []
  },
  {
   "cell_type": "markdown",
   "metadata": {},
   "source": [
    "## Calculate average score and average runtime for each of the groups."
   ]
  },
  {
   "cell_type": "code",
   "execution_count": 48,
   "metadata": {},
   "outputs": [
    {
     "data": {
      "text/html": [
       "<div>\n",
       "<style scoped>\n",
       "    .dataframe tbody tr th:only-of-type {\n",
       "        vertical-align: middle;\n",
       "    }\n",
       "\n",
       "    .dataframe tbody tr th {\n",
       "        vertical-align: top;\n",
       "    }\n",
       "\n",
       "    .dataframe thead th {\n",
       "        text-align: right;\n",
       "    }\n",
       "</style>\n",
       "<table border=\"1\" class=\"dataframe\">\n",
       "  <thead>\n",
       "    <tr style=\"text-align: right;\">\n",
       "      <th></th>\n",
       "      <th>IMDB Score</th>\n",
       "      <th>Runtime</th>\n",
       "    </tr>\n",
       "    <tr>\n",
       "      <th>Genre</th>\n",
       "      <th></th>\n",
       "      <th></th>\n",
       "    </tr>\n",
       "  </thead>\n",
       "  <tbody>\n",
       "    <tr>\n",
       "      <th>Action</th>\n",
       "      <td>5.414286</td>\n",
       "      <td>108.000000</td>\n",
       "    </tr>\n",
       "    <tr>\n",
       "      <th>Action comedy</th>\n",
       "      <td>5.420000</td>\n",
       "      <td>101.200000</td>\n",
       "    </tr>\n",
       "    <tr>\n",
       "      <th>Action thriller</th>\n",
       "      <td>6.400000</td>\n",
       "      <td>82.000000</td>\n",
       "    </tr>\n",
       "    <tr>\n",
       "      <th>Action-adventure</th>\n",
       "      <td>7.300000</td>\n",
       "      <td>121.000000</td>\n",
       "    </tr>\n",
       "    <tr>\n",
       "      <th>Action-thriller</th>\n",
       "      <td>6.133333</td>\n",
       "      <td>119.666667</td>\n",
       "    </tr>\n",
       "    <tr>\n",
       "      <th>...</th>\n",
       "      <td>...</td>\n",
       "      <td>...</td>\n",
       "    </tr>\n",
       "    <tr>\n",
       "      <th>Variety show</th>\n",
       "      <td>5.950000</td>\n",
       "      <td>60.500000</td>\n",
       "    </tr>\n",
       "    <tr>\n",
       "      <th>War</th>\n",
       "      <td>6.750000</td>\n",
       "      <td>110.500000</td>\n",
       "    </tr>\n",
       "    <tr>\n",
       "      <th>War drama</th>\n",
       "      <td>7.100000</td>\n",
       "      <td>145.500000</td>\n",
       "    </tr>\n",
       "    <tr>\n",
       "      <th>War-Comedy</th>\n",
       "      <td>6.000000</td>\n",
       "      <td>122.000000</td>\n",
       "    </tr>\n",
       "    <tr>\n",
       "      <th>Western</th>\n",
       "      <td>6.066667</td>\n",
       "      <td>116.666667</td>\n",
       "    </tr>\n",
       "  </tbody>\n",
       "</table>\n",
       "<p>79 rows × 2 columns</p>\n",
       "</div>"
      ],
      "text/plain": [
       "                  IMDB Score     Runtime\n",
       "Genre                                   \n",
       "Action              5.414286  108.000000\n",
       "Action comedy       5.420000  101.200000\n",
       "Action thriller     6.400000   82.000000\n",
       "Action-adventure    7.300000  121.000000\n",
       "Action-thriller     6.133333  119.666667\n",
       "...                      ...         ...\n",
       "Variety show        5.950000   60.500000\n",
       "War                 6.750000  110.500000\n",
       "War drama           7.100000  145.500000\n",
       "War-Comedy          6.000000  122.000000\n",
       "Western             6.066667  116.666667\n",
       "\n",
       "[79 rows x 2 columns]"
      ]
     },
     "execution_count": 48,
     "metadata": {},
     "output_type": "execute_result"
    }
   ],
   "source": [
    "gp_genre[['IMDB Score', 'Runtime']].mean()"
   ]
  },
  {
   "cell_type": "markdown",
   "metadata": {},
   "source": [
    "## On average, which movie genre scores the highest?"
   ]
  },
  {
   "cell_type": "code",
   "execution_count": 49,
   "metadata": {},
   "outputs": [
    {
     "data": {
      "text/plain": [
       "19"
      ]
     },
     "execution_count": 49,
     "metadata": {},
     "output_type": "execute_result"
    }
   ],
   "source": [
    "# index of the genre with the highest average score\n",
    "gp_genre['IMDB Score'].mean().argmax()"
   ]
  },
  {
   "cell_type": "code",
   "execution_count": 50,
   "metadata": {},
   "outputs": [
    {
     "data": {
      "text/plain": [
       "'Concert Film'"
      ]
     },
     "execution_count": 50,
     "metadata": {},
     "output_type": "execute_result"
    }
   ],
   "source": [
    "gp_genre['IMDB Score'].mean().index[19]"
   ]
  },
  {
   "cell_type": "markdown",
   "metadata": {},
   "source": [
    "## Are the movie titles unique?"
   ]
  },
  {
   "cell_type": "code",
   "execution_count": 61,
   "metadata": {},
   "outputs": [
    {
     "data": {
      "text/plain": [
       "533"
      ]
     },
     "execution_count": 61,
     "metadata": {},
     "output_type": "execute_result"
    }
   ],
   "source": [
    "df.shape\n",
    "df['Title'].nunique()"
   ]
  },
  {
   "cell_type": "markdown",
   "metadata": {},
   "source": [
    "## You have just found out that the titles are unique. It can be used as indexes for the dataframe. Let's make the `Title` column as index."
   ]
  },
  {
   "cell_type": "code",
   "execution_count": 35,
   "metadata": {},
   "outputs": [
    {
     "ename": "KeyError",
     "evalue": "\"None of ['Title'] are in the columns\"",
     "output_type": "error",
     "traceback": [
      "\u001b[1;31m---------------------------------------------------------------------------\u001b[0m",
      "\u001b[1;31mKeyError\u001b[0m                                  Traceback (most recent call last)",
      "\u001b[1;32m<ipython-input-35-a8ef76ce63ac>\u001b[0m in \u001b[0;36m<module>\u001b[1;34m\u001b[0m\n\u001b[1;32m----> 1\u001b[1;33m \u001b[0mdf\u001b[0m\u001b[1;33m.\u001b[0m\u001b[0mset_index\u001b[0m\u001b[1;33m(\u001b[0m\u001b[1;34m'Title'\u001b[0m\u001b[1;33m,\u001b[0m \u001b[0minplace\u001b[0m \u001b[1;33m=\u001b[0m \u001b[1;32mTrue\u001b[0m\u001b[1;33m)\u001b[0m\u001b[1;33m\u001b[0m\u001b[1;33m\u001b[0m\u001b[0m\n\u001b[0m\u001b[0;32m      2\u001b[0m \u001b[0mdf\u001b[0m\u001b[1;33m.\u001b[0m\u001b[0mhead\u001b[0m\u001b[1;33m(\u001b[0m\u001b[1;33m)\u001b[0m\u001b[1;33m\u001b[0m\u001b[1;33m\u001b[0m\u001b[0m\n\u001b[0;32m      3\u001b[0m \u001b[1;31m#df.loc['15 August']\u001b[0m\u001b[1;33m\u001b[0m\u001b[1;33m\u001b[0m\u001b[1;33m\u001b[0m\u001b[0m\n",
      "\u001b[1;32m~\\anaconda3\\lib\\site-packages\\pandas\\core\\frame.py\u001b[0m in \u001b[0;36mset_index\u001b[1;34m(self, keys, drop, append, inplace, verify_integrity)\u001b[0m\n\u001b[0;32m   4725\u001b[0m \u001b[1;33m\u001b[0m\u001b[0m\n\u001b[0;32m   4726\u001b[0m         \u001b[1;32mif\u001b[0m \u001b[0mmissing\u001b[0m\u001b[1;33m:\u001b[0m\u001b[1;33m\u001b[0m\u001b[1;33m\u001b[0m\u001b[0m\n\u001b[1;32m-> 4727\u001b[1;33m             \u001b[1;32mraise\u001b[0m \u001b[0mKeyError\u001b[0m\u001b[1;33m(\u001b[0m\u001b[1;34mf\"None of {missing} are in the columns\"\u001b[0m\u001b[1;33m)\u001b[0m\u001b[1;33m\u001b[0m\u001b[1;33m\u001b[0m\u001b[0m\n\u001b[0m\u001b[0;32m   4728\u001b[0m \u001b[1;33m\u001b[0m\u001b[0m\n\u001b[0;32m   4729\u001b[0m         \u001b[1;32mif\u001b[0m \u001b[0minplace\u001b[0m\u001b[1;33m:\u001b[0m\u001b[1;33m\u001b[0m\u001b[1;33m\u001b[0m\u001b[0m\n",
      "\u001b[1;31mKeyError\u001b[0m: \"None of ['Title'] are in the columns\""
     ]
    }
   ],
   "source": [
    "df.set_index('Title', inplace = True)\n",
    "df.head()\n",
    "#df.loc['15 August']"
   ]
  },
  {
   "cell_type": "markdown",
   "metadata": {},
   "source": [
    "# Datetime"
   ]
  },
  {
   "cell_type": "markdown",
   "metadata": {},
   "source": [
    "## What is the datetype of the `Premiere` column?"
   ]
  },
  {
   "cell_type": "code",
   "execution_count": 63,
   "metadata": {},
   "outputs": [
    {
     "data": {
      "text/plain": [
       "'September 8, 2017'"
      ]
     },
     "execution_count": 63,
     "metadata": {},
     "output_type": "execute_result"
    }
   ],
   "source": []
  },
  {
   "cell_type": "markdown",
   "metadata": {},
   "source": [
    "## Convert the datetime strings to datetime objects"
   ]
  },
  {
   "cell_type": "code",
   "execution_count": 64,
   "metadata": {},
   "outputs": [
    {
     "data": {
      "text/plain": [
       "Title\n",
       "#REALITYHIGH       2017-09-08\n",
       "13th               2016-10-07\n",
       "15 August          2019-03-29\n",
       "22 July            2018-10-10\n",
       "5 Star Christmas   2018-12-07\n",
       "                      ...    \n",
       "Yeh Ballet         2020-02-21\n",
       "Yes Day            2021-03-12\n",
       "You've Got This    2020-10-02\n",
       "Zion               2018-08-10\n",
       "�l�t?r�            2020-10-02\n",
       "Name: Premiere, Length: 533, dtype: datetime64[ns]"
      ]
     },
     "execution_count": 64,
     "metadata": {},
     "output_type": "execute_result"
    }
   ],
   "source": []
  },
  {
   "cell_type": "markdown",
   "metadata": {},
   "source": [
    "## Create new column for these time objects, name it `PremiereDate`"
   ]
  },
  {
   "cell_type": "code",
   "execution_count": 65,
   "metadata": {},
   "outputs": [
    {
     "data": {
      "text/html": [
       "<div>\n",
       "<style scoped>\n",
       "    .dataframe tbody tr th:only-of-type {\n",
       "        vertical-align: middle;\n",
       "    }\n",
       "\n",
       "    .dataframe tbody tr th {\n",
       "        vertical-align: top;\n",
       "    }\n",
       "\n",
       "    .dataframe thead th {\n",
       "        text-align: right;\n",
       "    }\n",
       "</style>\n",
       "<table border=\"1\" class=\"dataframe\">\n",
       "  <thead>\n",
       "    <tr style=\"text-align: right;\">\n",
       "      <th></th>\n",
       "      <th>Genre</th>\n",
       "      <th>Premiere</th>\n",
       "      <th>Runtime</th>\n",
       "      <th>IMDB Score</th>\n",
       "      <th>Language</th>\n",
       "      <th>PremiereDate</th>\n",
       "    </tr>\n",
       "    <tr>\n",
       "      <th>Title</th>\n",
       "      <th></th>\n",
       "      <th></th>\n",
       "      <th></th>\n",
       "      <th></th>\n",
       "      <th></th>\n",
       "      <th></th>\n",
       "    </tr>\n",
       "  </thead>\n",
       "  <tbody>\n",
       "    <tr>\n",
       "      <th>#REALITYHIGH</th>\n",
       "      <td>Comedy</td>\n",
       "      <td>September 8, 2017</td>\n",
       "      <td>99</td>\n",
       "      <td>5.2</td>\n",
       "      <td>English</td>\n",
       "      <td>2017-09-08</td>\n",
       "    </tr>\n",
       "    <tr>\n",
       "      <th>13th</th>\n",
       "      <td>Documentary</td>\n",
       "      <td>October 7, 2016</td>\n",
       "      <td>100</td>\n",
       "      <td>8.2</td>\n",
       "      <td>English</td>\n",
       "      <td>2016-10-07</td>\n",
       "    </tr>\n",
       "    <tr>\n",
       "      <th>15 August</th>\n",
       "      <td>Comedy-drama</td>\n",
       "      <td>March 29, 2019</td>\n",
       "      <td>124</td>\n",
       "      <td>5.8</td>\n",
       "      <td>Marathi</td>\n",
       "      <td>2019-03-29</td>\n",
       "    </tr>\n",
       "    <tr>\n",
       "      <th>22 July</th>\n",
       "      <td>Drama</td>\n",
       "      <td>October 10, 2018</td>\n",
       "      <td>144</td>\n",
       "      <td>6.8</td>\n",
       "      <td>English</td>\n",
       "      <td>2018-10-10</td>\n",
       "    </tr>\n",
       "    <tr>\n",
       "      <th>5 Star Christmas</th>\n",
       "      <td>Comedy</td>\n",
       "      <td>December 7, 2018</td>\n",
       "      <td>95</td>\n",
       "      <td>4.6</td>\n",
       "      <td>Italian</td>\n",
       "      <td>2018-12-07</td>\n",
       "    </tr>\n",
       "  </tbody>\n",
       "</table>\n",
       "</div>"
      ],
      "text/plain": [
       "                         Genre           Premiere  Runtime  IMDB Score  \\\n",
       "Title                                                                    \n",
       "#REALITYHIGH            Comedy  September 8, 2017       99         5.2   \n",
       "13th               Documentary    October 7, 2016      100         8.2   \n",
       "15 August         Comedy-drama     March 29, 2019      124         5.8   \n",
       "22 July                  Drama   October 10, 2018      144         6.8   \n",
       "5 Star Christmas        Comedy   December 7, 2018       95         4.6   \n",
       "\n",
       "                 Language PremiereDate  \n",
       "Title                                   \n",
       "#REALITYHIGH      English   2017-09-08  \n",
       "13th              English   2016-10-07  \n",
       "15 August         Marathi   2019-03-29  \n",
       "22 July           English   2018-10-10  \n",
       "5 Star Christmas  Italian   2018-12-07  "
      ]
     },
     "execution_count": 65,
     "metadata": {},
     "output_type": "execute_result"
    }
   ],
   "source": [
    "df['PremiereDate'] = \n",
    "df.head()"
   ]
  },
  {
   "cell_type": "markdown",
   "metadata": {},
   "source": [
    "## List all the movies that were premiered in 2018"
   ]
  },
  {
   "cell_type": "code",
   "execution_count": 68,
   "metadata": {},
   "outputs": [
    {
     "data": {
      "text/html": [
       "<div>\n",
       "<style scoped>\n",
       "    .dataframe tbody tr th:only-of-type {\n",
       "        vertical-align: middle;\n",
       "    }\n",
       "\n",
       "    .dataframe tbody tr th {\n",
       "        vertical-align: top;\n",
       "    }\n",
       "\n",
       "    .dataframe thead th {\n",
       "        text-align: right;\n",
       "    }\n",
       "</style>\n",
       "<table border=\"1\" class=\"dataframe\">\n",
       "  <thead>\n",
       "    <tr style=\"text-align: right;\">\n",
       "      <th></th>\n",
       "      <th>Genre</th>\n",
       "      <th>Premiere</th>\n",
       "      <th>Runtime</th>\n",
       "      <th>IMDB Score</th>\n",
       "      <th>Language</th>\n",
       "      <th>PremiereDate</th>\n",
       "    </tr>\n",
       "    <tr>\n",
       "      <th>Title</th>\n",
       "      <th></th>\n",
       "      <th></th>\n",
       "      <th></th>\n",
       "      <th></th>\n",
       "      <th></th>\n",
       "      <th></th>\n",
       "    </tr>\n",
       "  </thead>\n",
       "  <tbody>\n",
       "    <tr>\n",
       "      <th>22 July</th>\n",
       "      <td>Drama</td>\n",
       "      <td>October 10, 2018</td>\n",
       "      <td>144</td>\n",
       "      <td>6.8</td>\n",
       "      <td>English</td>\n",
       "      <td>2018-10-10</td>\n",
       "    </tr>\n",
       "    <tr>\n",
       "      <th>5 Star Christmas</th>\n",
       "      <td>Comedy</td>\n",
       "      <td>December 7, 2018</td>\n",
       "      <td>95</td>\n",
       "      <td>4.6</td>\n",
       "      <td>Italian</td>\n",
       "      <td>2018-12-07</td>\n",
       "    </tr>\n",
       "    <tr>\n",
       "      <th>6 Balloons</th>\n",
       "      <td>Drama</td>\n",
       "      <td>April 6, 2018</td>\n",
       "      <td>75</td>\n",
       "      <td>5.9</td>\n",
       "      <td>English</td>\n",
       "      <td>2018-04-06</td>\n",
       "    </tr>\n",
       "    <tr>\n",
       "      <th>A Christmas Prince: The Royal Wedding</th>\n",
       "      <td>Romantic comedy</td>\n",
       "      <td>November 30, 2018</td>\n",
       "      <td>92</td>\n",
       "      <td>5.3</td>\n",
       "      <td>English</td>\n",
       "      <td>2018-11-30</td>\n",
       "    </tr>\n",
       "    <tr>\n",
       "      <th>Alex Strangelove</th>\n",
       "      <td>Romantic comedy</td>\n",
       "      <td>June 8, 2018</td>\n",
       "      <td>99</td>\n",
       "      <td>6.3</td>\n",
       "      <td>English</td>\n",
       "      <td>2018-06-08</td>\n",
       "    </tr>\n",
       "    <tr>\n",
       "      <th>...</th>\n",
       "      <td>...</td>\n",
       "      <td>...</td>\n",
       "      <td>...</td>\n",
       "      <td>...</td>\n",
       "      <td>...</td>\n",
       "      <td>...</td>\n",
       "    </tr>\n",
       "    <tr>\n",
       "      <th>To All the Boys I've Loved Before</th>\n",
       "      <td>Romantic comedy</td>\n",
       "      <td>August 17, 2018</td>\n",
       "      <td>99</td>\n",
       "      <td>7.1</td>\n",
       "      <td>English</td>\n",
       "      <td>2018-08-17</td>\n",
       "    </tr>\n",
       "    <tr>\n",
       "      <th>To Each, Her Own</th>\n",
       "      <td>Romantic comedy</td>\n",
       "      <td>June 24, 2018</td>\n",
       "      <td>95</td>\n",
       "      <td>5.3</td>\n",
       "      <td>French</td>\n",
       "      <td>2018-06-24</td>\n",
       "    </tr>\n",
       "    <tr>\n",
       "      <th>Two Catalonias</th>\n",
       "      <td>Documentary</td>\n",
       "      <td>September 28, 2018</td>\n",
       "      <td>116</td>\n",
       "      <td>6.4</td>\n",
       "      <td>Spanish/Catalan</td>\n",
       "      <td>2018-09-28</td>\n",
       "    </tr>\n",
       "    <tr>\n",
       "      <th>When We First Met</th>\n",
       "      <td>Romantic comedy</td>\n",
       "      <td>February 9, 2018</td>\n",
       "      <td>97</td>\n",
       "      <td>6.4</td>\n",
       "      <td>English</td>\n",
       "      <td>2018-02-09</td>\n",
       "    </tr>\n",
       "    <tr>\n",
       "      <th>Zion</th>\n",
       "      <td>Documentary</td>\n",
       "      <td>August 10, 2018</td>\n",
       "      <td>11</td>\n",
       "      <td>7.2</td>\n",
       "      <td>English</td>\n",
       "      <td>2018-08-10</td>\n",
       "    </tr>\n",
       "  </tbody>\n",
       "</table>\n",
       "<p>90 rows × 6 columns</p>\n",
       "</div>"
      ],
      "text/plain": [
       "                                                 Genre            Premiere  \\\n",
       "Title                                                                        \n",
       "22 July                                          Drama    October 10, 2018   \n",
       "5 Star Christmas                                Comedy    December 7, 2018   \n",
       "6 Balloons                                       Drama       April 6, 2018   \n",
       "A Christmas Prince: The Royal Wedding  Romantic comedy   November 30, 2018   \n",
       "Alex Strangelove                       Romantic comedy        June 8, 2018   \n",
       "...                                                ...                 ...   \n",
       "To All the Boys I've Loved Before      Romantic comedy     August 17, 2018   \n",
       "To Each, Her Own                       Romantic comedy       June 24, 2018   \n",
       "Two Catalonias                             Documentary  September 28, 2018   \n",
       "When We First Met                      Romantic comedy    February 9, 2018   \n",
       "Zion                                       Documentary     August 10, 2018   \n",
       "\n",
       "                                       Runtime  IMDB Score         Language  \\\n",
       "Title                                                                         \n",
       "22 July                                    144         6.8          English   \n",
       "5 Star Christmas                            95         4.6          Italian   \n",
       "6 Balloons                                  75         5.9          English   \n",
       "A Christmas Prince: The Royal Wedding       92         5.3          English   \n",
       "Alex Strangelove                            99         6.3          English   \n",
       "...                                        ...         ...              ...   \n",
       "To All the Boys I've Loved Before           99         7.1          English   \n",
       "To Each, Her Own                            95         5.3           French   \n",
       "Two Catalonias                             116         6.4  Spanish/Catalan   \n",
       "When We First Met                           97         6.4          English   \n",
       "Zion                                        11         7.2          English   \n",
       "\n",
       "                                      PremiereDate  \n",
       "Title                                               \n",
       "22 July                                 2018-10-10  \n",
       "5 Star Christmas                        2018-12-07  \n",
       "6 Balloons                              2018-04-06  \n",
       "A Christmas Prince: The Royal Wedding   2018-11-30  \n",
       "Alex Strangelove                        2018-06-08  \n",
       "...                                            ...  \n",
       "To All the Boys I've Loved Before       2018-08-17  \n",
       "To Each, Her Own                        2018-06-24  \n",
       "Two Catalonias                          2018-09-28  \n",
       "When We First Met                       2018-02-09  \n",
       "Zion                                    2018-08-10  \n",
       "\n",
       "[90 rows x 6 columns]"
      ]
     },
     "execution_count": 68,
     "metadata": {},
     "output_type": "execute_result"
    }
   ],
   "source": [
    "# Hints\n",
    "# Use the datetime library\n",
    "# from datetime import datetime, date\n",
    "# left_bound_date\n",
    "# right_bound_date"
   ]
  },
  {
   "cell_type": "markdown",
   "metadata": {},
   "source": [
    "## There is another way to do this by using the function [`apply`](https://pandas.pydata.org/docs/reference/api/pandas.DataFrame.apply.html).  It executes a method on rows or columns."
   ]
  },
  {
   "cell_type": "code",
   "execution_count": null,
   "metadata": {},
   "outputs": [],
   "source": [
    "# Hint, to get year from a datetime object\n",
    "# use .year"
   ]
  }
 ],
 "metadata": {
  "interpreter": {
   "hash": "df955ce39d0f31d56d4bb2fe0a613e5326ba60723fd33d8303a3aede8f65715c"
  },
  "kernelspec": {
   "display_name": "Python 3",
   "language": "python",
   "name": "python3"
  },
  "language_info": {
   "codemirror_mode": {
    "name": "ipython",
    "version": 3
   },
   "file_extension": ".py",
   "mimetype": "text/x-python",
   "name": "python",
   "nbconvert_exporter": "python",
   "pygments_lexer": "ipython3",
   "version": "3.8.8"
  }
 },
 "nbformat": 4,
 "nbformat_minor": 2
}
